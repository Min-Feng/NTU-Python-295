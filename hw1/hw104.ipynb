{
 "cells": [
  {
   "cell_type": "markdown",
   "metadata": {},
   "source": [
    "![picture](img/hw104.PNG)"
   ]
  },
  {
   "cell_type": "code",
   "execution_count": 1,
   "metadata": {},
   "outputs": [
    {
     "name": "stdout",
     "output_type": "stream",
     "text": [
      "1.2 1000 10\n",
      "1269\n"
     ]
    }
   ],
   "source": [
    "inputNumber=input()\n",
    "\n",
    "list1=inputNumber.split(\" \")\n",
    "\n",
    "A=float(list1[0])\n",
    "B=float(list1[1])\n",
    "N=int(list1[2])\n",
    "\n",
    "count=N*2\n",
    "\n",
    "B*=(1+A/100)**(count)\n",
    "print(round(B))"
   ]
  },
  {
   "cell_type": "code",
   "execution_count": null,
   "metadata": {},
   "outputs": [],
   "source": []
  }
 ],
 "metadata": {
  "kernelspec": {
   "display_name": "Python 3",
   "language": "python",
   "name": "python3"
  },
  "language_info": {
   "codemirror_mode": {
    "name": "ipython",
    "version": 3
   },
   "file_extension": ".py",
   "mimetype": "text/x-python",
   "name": "python",
   "nbconvert_exporter": "python",
   "pygments_lexer": "ipython3",
   "version": "3.6.5"
  }
 },
 "nbformat": 4,
 "nbformat_minor": 2
}
