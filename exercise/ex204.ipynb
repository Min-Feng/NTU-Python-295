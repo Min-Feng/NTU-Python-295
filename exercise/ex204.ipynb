{
 "cells": [
  {
   "cell_type": "markdown",
   "metadata": {},
   "source": [
    "![picture](img/ex204.PNG)\n",
    "\n",
    "### Sample Input 1\n",
    "<div class=\"alert alert-info\">\n",
    "2<br>\n",
    "jam#s<br>\n",
    "4<br>\n",
    "john<br>\n",
    "james<br>\n",
    "jam<br>\n",
    "jambus<br>\n",
    "sa#<br>\n",
    "3<br>\n",
    "sally<br>\n",
    "sa<br>\n",
    "susan<br>\n",
    "</div>\n",
    "\n",
    "### Sample Output 1\n",
    "<div class=\"alert alert-info\">\n",
    "DATA SET #1: <br>\n",
    "IMPOSSIBLE<br>\n",
    "POSSIBLE<br>\n",
    "IMPOSSIBLE<br>\n",
    "POSSIBLE<br>\n",
    "DATA SET #2: <br>\n",
    "POSSIBLE<br>\n",
    "POSSIBLE<br>\n",
    "IMPOSSIBLE<br>\n",
    "</div>"
   ]
  },
  {
   "cell_type": "code",
   "execution_count": 2,
   "metadata": {},
   "outputs": [
    {
     "name": "stdout",
     "output_type": "stream",
     "text": [
      "1\n",
      "jam#s\n",
      "4\n",
      "john\n",
      "james\n",
      "jam\n",
      "jambus\n",
      "DATA SET #1:\n",
      "IMPOSSIBLE\n",
      "POSSIBLE\n",
      "IMPOSSIBLE\n",
      "POSSIBLE\n"
     ]
    }
   ],
   "source": [
    "# ex204 首領的名字\n",
    "\n",
    "def checkDataName(testData,Target):\n",
    "    TargetList=Target.split(\"#\")\n",
    "    \n",
    "    flagFront=testData.find(TargetList[0])\n",
    "    flagBack=testData[::-1].find(TargetList[1][::-1])\n",
    "        \n",
    "    if flagFront==0 and flagBack==0:\n",
    "        return 'POSSIBLE'\n",
    "    else:\n",
    "        return 'IMPOSSIBLE'   \n",
    "    \n",
    "def oneNameResult():\n",
    "    result=[]    \n",
    "    Target=input()\n",
    "    dataNum=int(input())\n",
    "    for i in range(dataNum):\n",
    "        testData=input()\n",
    "        result.append(checkDataName(testData,Target))\n",
    "    return result\n",
    "    \n",
    "nameNum=int(input())\n",
    "result=[]\n",
    "for i in range(nameNum):\n",
    "    result.append(oneNameResult())\n",
    "    print(\"DATA SET #{}:\".format(i+1))\n",
    "    for j in range(len(result[i])):\n",
    "        print(result[i][j])\n",
    "    "
   ]
  },
  {
   "cell_type": "code",
   "execution_count": null,
   "metadata": {},
   "outputs": [],
   "source": []
  }
 ],
 "metadata": {
  "kernelspec": {
   "display_name": "Python 3",
   "language": "python",
   "name": "python3"
  },
  "language_info": {
   "codemirror_mode": {
    "name": "ipython",
    "version": 3
   },
   "file_extension": ".py",
   "mimetype": "text/x-python",
   "name": "python",
   "nbconvert_exporter": "python",
   "pygments_lexer": "ipython3",
   "version": "3.6.5"
  }
 },
 "nbformat": 4,
 "nbformat_minor": 2
}
