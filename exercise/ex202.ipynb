{
 "cells": [
  {
   "cell_type": "markdown",
   "metadata": {},
   "source": [
    "# 兩個字典的鍵值配對\n",
    "\n",
    "### Description  \n",
    "請寫一支程式，將兩個字典中的相同鍵值對元素挑選出來。\n",
    "\n",
    "### Input  \n",
    "測試資料的內容如下:  \n",
    "第一列有一個數字N(0<N<=1000)，代表資料有幾組  \n",
    "接下來的N行，每一行內部資料格式為:鍵(key) 值(value) 字典分類名稱，  \n",
    "其中鍵(key)與字典分類名稱的資料型態皆為字串(除了測試檔案內的名稱外，  \n",
    "可能會有其他不同的名稱)，  \n",
    "而值(value)為不大於100的正整數，字典分類名稱則只會出現2種。如範例輸入：\n",
    "\n",
    "### Output  \n",
    "輸出統計資料請依照鍵(key)字元順序排序，每一則配對格式如下: 鍵: 值 is present in both 字典分類1 and 字典分類2\n",
    "\n",
    "***\n",
    "### Sample Input 1\n",
    "<div class=\"alert alert-info\">\n",
    "2 <br>\n",
    "key0 2 P<br>\n",
    "key0 2 Q<br>\n",
    "</div>\n",
    "\n",
    "### Sample Output 1\n",
    "<div class=\"alert alert-info\">\n",
    "key0: 2 is present in both P and Q\n",
    "</div>\n",
    "\n",
    "***\n",
    "### Sample Input 2\n",
    "<div class=\"alert alert-info\">\n",
    "5<br>\n",
    "key1 3 A<br>\n",
    "key2 2 A<br>\n",
    "key3 1 A<br>\n",
    "key1 3 B<br>\n",
    "key2 2 B<br>\n",
    "</div>\n",
    "\n",
    "### Sample Output 2\n",
    "<div class=\"alert alert-info\">\n",
    "key1: 3 is present in both A and B<br>\n",
    "key2: 2 is present in both A and B<br>\n",
    "</div>"
   ]
  },
  {
   "cell_type": "code",
   "execution_count": 3,
   "metadata": {},
   "outputs": [
    {
     "name": "stdout",
     "output_type": "stream",
     "text": [
      "2\n",
      "key0 2 P\n",
      "key0 2 Q\n",
      "key0: 2 is present in both P and Q\n"
     ]
    }
   ],
   "source": [
    "num=int(input())\n",
    "inputList=[]\n",
    "\n",
    "for i in range(num):\n",
    "    inputList.append(input().split(\" \"))\n",
    "\n",
    "Dict=dict()\n",
    "List=list()\n",
    "\n",
    "for i in range(num):\n",
    "    if inputList[i][-1] not in List: \n",
    "        List.append(inputList[i][-1])        \n",
    "        Dict[inputList[i][-1]]={}\n",
    "    Dict[inputList[i][-1]][inputList[i][0]]=inputList[i][1]\n",
    "\n",
    "List.sort()\n",
    "x=set(Dict[List[0]].items())\n",
    "y=set(Dict[List[1]].items())\n",
    "\n",
    "result=list(x&y)\n",
    "result.sort()\n",
    "\n",
    "for i in range(len(result)):\n",
    "    print(\"{}: {} is present in both {} and {}\".format(result[i][0],result[i][1],List[0],List[1]))"
   ]
  },
  {
   "cell_type": "code",
   "execution_count": null,
   "metadata": {},
   "outputs": [],
   "source": []
  }
 ],
 "metadata": {
  "kernelspec": {
   "display_name": "Python 3",
   "language": "python",
   "name": "python3"
  },
  "language_info": {
   "codemirror_mode": {
    "name": "ipython",
    "version": 3
   },
   "file_extension": ".py",
   "mimetype": "text/x-python",
   "name": "python",
   "nbconvert_exporter": "python",
   "pygments_lexer": "ipython3",
   "version": "3.6.5"
  }
 },
 "nbformat": 4,
 "nbformat_minor": 2
}
