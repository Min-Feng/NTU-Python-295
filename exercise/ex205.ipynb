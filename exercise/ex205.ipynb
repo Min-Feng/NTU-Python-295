{
 "cells": [
  {
   "cell_type": "markdown",
   "metadata": {},
   "source": [
    "# 摩斯電碼\n",
    "\n",
    "### Description  \n",
    "摩斯電碼是一種傳送文字訊息的方式，在電報通訊的時代被廣泛地使用。  \n",
    "我們用點 ( . ) 來表示短訊號，用劃 ( - ) 來表示長訊號，在兩個訊號間以很短的空白(無訊號的狀態)來隔開。\n",
    "\n",
    "### Input  \n",
    "每一行有一個以點（‘.’）、劃（‘-’）和空白（‘ ’）組成的字串，代表一組測試資料。  \n",
    "點和劃就如題目所說，分別代表短訊號和長訊號。我們忽略訊號之間的空白，而用空白字元代表兩個單字的分隔。  \n",
    "題目保證每一行的長度不超過200，而且都能正確解碼，沒有多餘的訊號。一個字母的電碼不會被空白字元切開，測試資料中也不會有連續的空白字元。\n",
    "\n",
    "### Output  \n",
    "對每一筆測資輸出一行，即這段電碼代表的英文字句。  \n",
    "電碼對應的英文字母以大寫表示，兩個英文單字間以一個空白字元隔開。\n",
    "***\n",
    "### Sample Input 1\n",
    "<div class=\"alert alert-info\">\n",
    "...-...-.---..- -.---..-<br>\n",
    "---.-.-. .-----.-..---..-.<br>\n",
    "--...-.-.---.---....----..--..---<br>\n",
    "--..-.--.-.-... .-..----.-.-. -------.- -.--...<br>\n",
    "</div>\n",
    "\n",
    "### Sample Output 1\n",
    "<div class=\"alert alert-info\">\n",
    "THIS IS<br>\n",
    "AN EASY<br>\n",
    "PROBLEM<br>\n",
    "YOU CAN DO IT<br>\n",
    "</div>"
   ]
  },
  {
   "cell_type": "code",
   "execution_count": 2,
   "metadata": {},
   "outputs": [
    {
     "name": "stdout",
     "output_type": "stream",
     "text": [
      "...-...-.---..- -.---..-\n",
      "---.-.-. .-----.-..---..-.\n",
      "--...-.-.---.---....----..--..---\n",
      "--..-.--.-.-... .-..----.-.-. -------.- -.--...\n",
      " \n",
      "THIS IS\n",
      "AN EASY\n",
      "PROBLEM\n",
      "YOU CAN DO IT\n",
      " \n"
     ]
    }
   ],
   "source": [
    "# ex205 摩斯密碼\n",
    "codeBook = {\"---.\":\"A\",\"--....\":\"B\",\".-..-\":\"C\",\"-----\":\"D\",\\\n",
    "\".--\":\"E\",\"..-.-\":\"F\",\"--..--\":\"G\",\"-...\":\"H\",\"-.--\":\"I\",\\\n",
    "\"..-..-.--\":\"J\",\"..-..--\":\"K\",\"----.\":\"L\",\"..---\":\"M\",\\\n",
    "\"-.-.\":\"N\",\"--.-\":\"O\",\"--...-\":\"P\",\"..-..-..-\":\"Q\",\".-.-\":\"R\",\\\n",
    "\"-..-\":\"S\",\"...\":\"T\",\".-...\":\"U\",\"..-...\":\"V\",\"..--.\":\"W\",\\\n",
    "\"..-..-.-.\":\"X\",\"--..-.\":\"Y\",\"..-..-...\":\"Z\"}\n",
    "\n",
    "# 解碼連續的摩斯密碼(單字)\n",
    "def decodeMorse(strChar):\n",
    "    morseWord=\"\"\n",
    "    decodeWord=\"\"\n",
    "    \n",
    "    for char in strChar:\n",
    "        morseWord+=char\n",
    "        if morseWord in codeBook:\n",
    "            decodeWord+=codeBook[morseWord]\n",
    "            morseWord=\"\"\n",
    "    return decodeWord\n",
    "\n",
    "# 解碼摩斯密碼(段落)\n",
    "def decodeLine(strLine):\n",
    "    inputList=strLine.split(\" \")\n",
    "    translateWord=[]\n",
    "    for i in inputList:\n",
    "        translateWord.append(decodeMorse(i))\n",
    "    \n",
    "    translateLine=\" \".join(translateWord) #join後 回傳join後的List or str? \n",
    "    return translateLine\n",
    "\n",
    "result=[]\n",
    "for i in range(5):\n",
    "# while 1:\n",
    "    try:\n",
    "        strLine=input()\n",
    "        result.append(decodeLine(strLine))\n",
    "    except :\n",
    "        break\n",
    "\n",
    "for i in result:\n",
    "    print(i)\n"
   ]
  },
  {
   "cell_type": "code",
   "execution_count": null,
   "metadata": {},
   "outputs": [],
   "source": []
  },
  {
   "cell_type": "code",
   "execution_count": null,
   "metadata": {},
   "outputs": [],
   "source": []
  }
 ],
 "metadata": {
  "kernelspec": {
   "display_name": "Python 3",
   "language": "python",
   "name": "python3"
  },
  "language_info": {
   "codemirror_mode": {
    "name": "ipython",
    "version": 3
   },
   "file_extension": ".py",
   "mimetype": "text/x-python",
   "name": "python",
   "nbconvert_exporter": "python",
   "pygments_lexer": "ipython3",
   "version": "3.6.5"
  }
 },
 "nbformat": 4,
 "nbformat_minor": 2
}
