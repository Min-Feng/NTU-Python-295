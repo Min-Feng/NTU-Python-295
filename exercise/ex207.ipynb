{
 "cells": [
  {
   "cell_type": "markdown",
   "metadata": {},
   "source": [
    "# 密室逃脫\n",
    "\n",
    "### Description  \n",
    "你被困在一間密室裡，醒來發現桌上有一張紙條與數把鑰匙，紙條上寫著： \n",
    "親愛的陌生人，  \n",
    "請根據背面的提示，找出正確的鑰匙來開門，  \n",
    "你只有一次機會，否則你將永遠被困在密室...  \n",
    "\n",
    "### Input  \n",
    "依序輸入兩個數字a、b，a代表鑰匙的形狀(1為菱形，2為沙漏型，a必為1或2)，b為鑰匙的長度(size，b必為奇數，且b<=25)。\n"
   ]
  },
  {
   "cell_type": "code",
   "execution_count": 4,
   "metadata": {},
   "outputs": [],
   "source": [
    "# ex207 密室逃脫\n",
    "\n",
    "def pyramid(N):\n",
    "    symbolrow=[]\n",
    "    line=''\n",
    "    for i in range(N):\n",
    "        for j in range(N-1-i):\n",
    "            line+=' '\n",
    "        for k in range(2*i+1):\n",
    "            line+='*'\n",
    "        symbolrow.append(line)\n",
    "        line=''\n",
    "    return symbolrow\n",
    "                \n",
    "def pyramidReverse(N):\n",
    "    symbolrow=pyramid(N)\n",
    "    symbolrow.reverse()\n",
    "    return symbolrow\n",
    "\n",
    "def hourglassShape(N):\n",
    "    radius=int((N+1)/2)\n",
    "    upperPart=pyramidReverse(radius)\n",
    "    lowerPart=pyramid(radius)\n",
    "    \n",
    "    for i in upperPart:\n",
    "        print(i)\n",
    "        \n",
    "    for j in lowerPart:\n",
    "        if j!=lowerPart[0]:\n",
    "            print(j)\n",
    "            \n",
    "def diamondShape(N):           \n",
    "    radius=int((N+1)/2)\n",
    "    upperPart=pyramid(radius)\n",
    "    lowerPart=pyramidReverse(radius)\n",
    "    \n",
    "    for i in upperPart:\n",
    "        print(i)\n",
    "        \n",
    "    for j in lowerPart:\n",
    "        if j!=lowerPart[0]:\n",
    "            print(j)        "
   ]
  },
  {
   "cell_type": "code",
   "execution_count": 3,
   "metadata": {},
   "outputs": [
    {
     "name": "stdout",
     "output_type": "stream",
     "text": [
      "2 7\n",
      "*******\n",
      " *****\n",
      "  ***\n",
      "   *\n",
      "  ***\n",
      " *****\n",
      "*******\n"
     ]
    }
   ],
   "source": [
    "inputList=input().split(\" \")\n",
    "keyType=inputList[0]\n",
    "keySize=int(inputList[1])\n",
    "\n",
    "if keyType =='1':\n",
    "    diamondShape(keySize)\n",
    "elif keyType =='2':\n",
    "    hourglassShape(keySize)\n",
    "else:\n",
    "    print('輸入錯誤')"
   ]
  },
  {
   "cell_type": "code",
   "execution_count": 5,
   "metadata": {},
   "outputs": [
    {
     "name": "stdout",
     "output_type": "stream",
     "text": [
      "1 9\n",
      "    *\n",
      "   ***\n",
      "  *****\n",
      " *******\n",
      "*********\n",
      " *******\n",
      "  *****\n",
      "   ***\n",
      "    *\n"
     ]
    }
   ],
   "source": [
    "inputList=input().split(\" \")\n",
    "keyType=inputList[0]\n",
    "keySize=int(inputList[1])\n",
    "\n",
    "if keyType =='1':\n",
    "    diamondShape(keySize)\n",
    "elif keyType =='2':\n",
    "    hourglassShape(keySize)\n",
    "else:\n",
    "    print('輸入錯誤')"
   ]
  },
  {
   "cell_type": "code",
   "execution_count": null,
   "metadata": {},
   "outputs": [],
   "source": []
  }
 ],
 "metadata": {
  "kernelspec": {
   "display_name": "Python 3",
   "language": "python",
   "name": "python3"
  },
  "language_info": {
   "codemirror_mode": {
    "name": "ipython",
    "version": 3
   },
   "file_extension": ".py",
   "mimetype": "text/x-python",
   "name": "python",
   "nbconvert_exporter": "python",
   "pygments_lexer": "ipython3",
   "version": "3.6.5"
  }
 },
 "nbformat": 4,
 "nbformat_minor": 2
}
