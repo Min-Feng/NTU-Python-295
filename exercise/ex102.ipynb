{
 "cells": [
  {
   "cell_type": "markdown",
   "metadata": {},
   "source": [
    "# 字串小學堂\n",
    "\n",
    "### Description  \n",
    "&emsp;有一位同學名叫小明，小明很喜歡跟別人說話，但每次說出來的語句的順序都很奇怪，希望能透過你來說出他想要表達的句子。\n",
    "\n",
    "### Input  \n",
    "&emsp;三行字串，每一行字串由一個英文單字以及一個數字組成，數字為原語句該有的順序。數字為 1~3\n",
    "\n",
    "### Output  \n",
    "&emsp;依據順序輸出 正常語意的語句並加上句點\n",
    "\n",
    "***\n",
    "### Sample Input 1\n",
    "<div class=\"alert alert-info\">\n",
    "pretty 2 <br>\n",
    "good 3   <br>\n",
    "That's 1 <br>\n",
    "</div>\n",
    "\n",
    "### Sample Output 1\n",
    "<div class=\"alert alert-info\">\n",
    "That's pretty good.\n",
    "</div>"
   ]
  },
  {
   "cell_type": "code",
   "execution_count": 5,
   "metadata": {},
   "outputs": [
    {
     "name": "stdout",
     "output_type": "stream",
     "text": [
      "pretty 2\n",
      "good 3\n",
      "That's 1\n",
      "That's pretty good.\n"
     ]
    }
   ],
   "source": [
    "inputString_x=input()\n",
    "inputString_y=input()\n",
    "inputString_z=input()\n",
    "\n",
    "listX=inputString_x.split(\" \")\n",
    "listY=inputString_y.split(\" \")\n",
    "listZ=inputString_z.split(\" \")\n",
    "\n",
    "if listX[1]>listY[1]:\n",
    "    temp=listY\n",
    "    listY=listX\n",
    "    listX=temp\n",
    "if listX[1]>listZ[1]:\n",
    "    temp=listZ\n",
    "    listZ=listX\n",
    "    listX=temp\n",
    "if listY[1]>listZ[1]:\n",
    "    temp=listZ\n",
    "    listZ=listY\n",
    "    listY=temp\n",
    "\n",
    "print(\"{} {} {}.\".format(listX[0],listY[0],listZ[0]))"
   ]
  },
  {
   "cell_type": "code",
   "execution_count": null,
   "metadata": {},
   "outputs": [],
   "source": []
  }
 ],
 "metadata": {
  "kernelspec": {
   "display_name": "Python 3",
   "language": "python",
   "name": "python3"
  },
  "language_info": {
   "codemirror_mode": {
    "name": "ipython",
    "version": 3
   },
   "file_extension": ".py",
   "mimetype": "text/x-python",
   "name": "python",
   "nbconvert_exporter": "python",
   "pygments_lexer": "ipython3",
   "version": "3.6.5"
  }
 },
 "nbformat": 4,
 "nbformat_minor": 2
}
