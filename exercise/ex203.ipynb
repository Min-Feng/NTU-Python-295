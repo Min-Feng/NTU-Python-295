{
 "cells": [
  {
   "cell_type": "markdown",
   "metadata": {},
   "source": [
    "# 歌詞詞頻統計\n",
    "\n",
    "### Description  \n",
    "你想分析某個樂團的作詞風格，你想先從他使用詞語的頻率(Term Frequency)入手。給你一段歌詞，試著分析單字出現個數。\n",
    "\n",
    "### Input  \n",
    "輸入共數行，為欲分析的整段歌詞，其中換行以\"\\n\"代替，除了英文字母外，歌詞中亦包含許多標點符號(這回你只需考慮以下4種符號: \",\", \":\", \"?\",\".\")。  \n",
    "而當遇到某一行為'==='則表示此行為最終行，代表讀取結束(若還有歌詞則不予理會)，並且此行'==='不列入詞頻統計。\n",
    "\n",
    "### Output  \n",
    "輸出格式請滿足以下要求：\n",
    "\n",
    "1. 詞頻計算不包含標點符號(此題只需考慮4種)與換行符號(\"\\n\")\\。\n",
    "2. 計算好的詞頻請以英文字母做排序輸出。\n",
    "3. 請將縮寫還原後再計算詞頻(此題只需考慮以下2種: We're -> We are, I'd -> I would)。\n",
    "4. 請將所有字母轉成小寫。\n",
    "***\n",
    "### Sample Input 1\n",
    "<div class=\"alert alert-info\">\n",
    "When I find myself in time of trouble <br>\n",
    "Mother Mary comes to me <br>\n",
    "Speaking words of wisdom: Let it be <br>\n",
    "And in my hour of darkness <br>\n",
    "She is standing right in front of me <br>\n",
    "Speaking words of wisdom: Let it be <br>\n",
    "Let it be, let it be <br>\n",
    "Let it be, let it be <br>\n",
    "Whisper words of wisdom: Let it be <br>\n",
    "And when the broken hearted people living in the world agree <br>\n",
    "There will be an answer: Let it be <br>\n",
    "For though they may be parted <br>\n",
    "There is still a chance that they will see <br>\n",
    "There will be an answer: Let it be <br>\n",
    "Let it be, let it be <br>\n",
    "Let it be, let it be <br>\n",
    "Yeah, there will be an answer: Let it be <br>\n",
    "And when the night is cloudy <br>\n",
    "There is still a light that shines on me <br>\n",
    "Shine until tomorrow. Let it be <br>\n",
    "I wake up to the sound of music Mother Mary comes to me <br>\n",
    "Speaking words of wisdom: Let it be<br>\n",
    "===\n",
    "</div>\n",
    "\n",
    "### Sample Output 1\n",
    "<div class=\"alert alert-info\">\n",
    "\n",
    "</div>\n",
    "\n"
   ]
  },
  {
   "cell_type": "code",
   "execution_count": null,
   "metadata": {},
   "outputs": [],
   "source": [
    "# ex203 歌詞詞頻統計-1\n",
    "\n",
    "lyric=\"\"\n",
    "row=input()\n",
    "while row != \"===\" :\n",
    "    lyric+=row\n",
    "    row=input()\n",
    "    \n",
    "# 記得都換成小寫 才好判斷\n",
    "lyricStr=lyric.replace(\",\",\"\").replace(\":\",\"\").replace(\"?\",\"\").replace(\".\",\"\")\\\n",
    ".lower().replace(\"we're\",\"we are\").replace(\"i'd\",\"i would\")\n",
    "\n",
    "lyricList=lyricStr.split()\n",
    "lyricSet=set(lyricList)\n",
    "\n",
    "lyricDict={}\n",
    "for word in lyricSet:\n",
    "    lyricDict[word]=lyricList.count(word)\n",
    "    \n",
    "keyList=list(lyricDict.keys())\n",
    "keyList.sort()\n",
    "\n",
    "for i in range(len(keyList)):\n",
    "    print(\"{}:{}\".format(keyList[i],lyricDict[keyList[i]]))\n"
   ]
  },
  {
   "cell_type": "code",
   "execution_count": null,
   "metadata": {},
   "outputs": [],
   "source": []
  }
 ],
 "metadata": {
  "kernelspec": {
   "display_name": "Python 3",
   "language": "python",
   "name": "python3"
  },
  "language_info": {
   "codemirror_mode": {
    "name": "ipython",
    "version": 3
   },
   "file_extension": ".py",
   "mimetype": "text/x-python",
   "name": "python",
   "nbconvert_exporter": "python",
   "pygments_lexer": "ipython3",
   "version": "3.6.5"
  }
 },
 "nbformat": 4,
 "nbformat_minor": 2
}
