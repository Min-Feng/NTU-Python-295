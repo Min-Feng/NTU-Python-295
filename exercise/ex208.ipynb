{
 "cells": [
  {
   "cell_type": "markdown",
   "metadata": {},
   "source": [
    "# 及格名單2\n",
    "\n",
    "### Description  \n",
    "後來學校為了鼓勵各班級認真讀書，決定依據公布的科目找出及格人數最多的班級，  \n",
    "\n",
    "請撰寫一支程式，根據所得資訊，找出科目及格的人。\n",
    "\n",
    "### Input  \n",
    "先輸入n，代表接下來會有n位同學的資料，\n",
    "\n",
    "接下來會依照 姓名 國文(Chinese) 英文(English) 數學(Math) 自然(Science) 社會(Society)輸入，\n",
    "\n",
    "最後要求任意兩個科目，尋找兩科任一及格(or 關係)的人姓名。\n",
    "\n",
    "### Output  \n",
    "將人名以排序，再以[ , ]隔開印出。\n",
    "\n",
    "如果沒有任何人及格，請印出NO。\n",
    "\n",
    "英文字母排序可參考串列的 \"sort\" Method。\n",
    "***\n",
    "### Sample Input 1\n",
    "<div class=\"alert alert-info\">\n",
    "5<br>\n",
    "Amy 90 60 40 100 100<br>\n",
    "Bob 40 100 20 100 100<br>\n",
    "Tom 10 10 10 50 100<br>\n",
    "Fred 45 55 56 48 20<br>\n",
    "Alex 100 100 100 100 100<br>\n",
    "Chinese English<br>\n",
    "</div>\n",
    "\n",
    "### Sample Output 1\n",
    "<div class=\"alert alert-info\">\n",
    "Alex,Amy,Bob<br>\n",
    "</div>"
   ]
  },
  {
   "cell_type": "code",
   "execution_count": 1,
   "metadata": {},
   "outputs": [
    {
     "name": "stdout",
     "output_type": "stream",
     "text": [
      "5\n",
      "Amy 90 60 40 100 100\n",
      "Bob 40 100 20 100 100\n",
      "Tom 10 10 10 50 100\n",
      "Fred 45 55 56 48 20\n",
      "Alex 100 100 100 100 100\n",
      "Chinese English\n",
      "Alex,Amy,Bob\n"
     ]
    }
   ],
   "source": [
    "\n",
    "def studentData(inputList):   \n",
    "    studentDict={}\n",
    "    studentDict[inputList[0]]={}\n",
    "    studentDict[inputList[0]]['Chinese']=int(inputList[1])\n",
    "    studentDict[inputList[0]]['English']=int(inputList[2])\n",
    "    studentDict[inputList[0]]['Math']=int(inputList[3])\n",
    "    studentDict[inputList[0]]['Science']=int(inputList[4])\n",
    "    studentDict[inputList[0]]['Society']=int(inputList[5])\n",
    "    return studentDict\n",
    "\n",
    "# 儲存學生資料\n",
    "personNum=int(input())\n",
    "studentDict={}\n",
    "for i in range(personNum):\n",
    "    inputList=input().split(\" \")    \n",
    "    studentDict.update(studentData(inputList)) #嘗試思考若是不用update 應該怎麼做\n",
    "    nameList=list(studentDict.keys())\n",
    "\n",
    "# 檢查科目是否及格\n",
    "Subject=input().split(\" \")\n",
    "passList=[]\n",
    "for i in Subject:\n",
    "    for j in range(len(nameList)):\n",
    "        if studentDict[nameList[j]][i]>59:\n",
    "            passList.append(nameList[j])\n",
    "            \n",
    "# 一人若是多科及格,上述的程式碼會多次push到 passList 因此用set處理           \n",
    "passList=list(set(passList))\n",
    "passList.sort()\n",
    "passList=\",\".join(passList)\n",
    "if len(passList)==0:\n",
    "    passList='NO'\n",
    "\n",
    "print(passList)"
   ]
  },
  {
   "cell_type": "code",
   "execution_count": null,
   "metadata": {},
   "outputs": [],
   "source": []
  }
 ],
 "metadata": {
  "kernelspec": {
   "display_name": "Python 3",
   "language": "python",
   "name": "python3"
  },
  "language_info": {
   "codemirror_mode": {
    "name": "ipython",
    "version": 3
   },
   "file_extension": ".py",
   "mimetype": "text/x-python",
   "name": "python",
   "nbconvert_exporter": "python",
   "pygments_lexer": "ipython3",
   "version": "3.6.5"
  }
 },
 "nbformat": 4,
 "nbformat_minor": 2
}
