{
 "cells": [
  {
   "cell_type": "markdown",
   "metadata": {},
   "source": [
    "# 金字塔\n",
    "\n",
    "### Description  \n",
    "請利用for迴圈寫出N層金字塔圖形\n",
    "\n",
    "### Input  \n",
    "數字N\n",
    "\n",
    "### Output  \n",
    "高為n的*號金字塔(每列最後/右一個星號後無空白)\n"
   ]
  },
  {
   "cell_type": "code",
   "execution_count": 2,
   "metadata": {},
   "outputs": [
    {
     "name": "stdout",
     "output_type": "stream",
     "text": [
      "5\n",
      "    *\n",
      "   * *\n",
      "  * * *\n",
      " * * * *\n",
      "* * * * *\n"
     ]
    }
   ],
   "source": [
    "# ex209 金字塔\n",
    "\n",
    "N=int(input())\n",
    "for i in range(N):\n",
    "    for j in range(N-i-1): #注意此處 思考(-1)的理由\n",
    "        print(\" \",end=\"\")\n",
    "        \n",
    "    for k in range(i+1):\n",
    "        if k == (i):\n",
    "            print(\"*\")\n",
    "        else:\n",
    "            print(\"* \",end=\"\")"
   ]
  },
  {
   "cell_type": "code",
   "execution_count": null,
   "metadata": {},
   "outputs": [],
   "source": []
  }
 ],
 "metadata": {
  "kernelspec": {
   "display_name": "Python 3",
   "language": "python",
   "name": "python3"
  },
  "language_info": {
   "codemirror_mode": {
    "name": "ipython",
    "version": 3
   },
   "file_extension": ".py",
   "mimetype": "text/x-python",
   "name": "python",
   "nbconvert_exporter": "python",
   "pygments_lexer": "ipython3",
   "version": "3.6.5"
  }
 },
 "nbformat": 4,
 "nbformat_minor": 2
}
