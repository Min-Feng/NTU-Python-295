{
 "cells": [
  {
   "cell_type": "markdown",
   "metadata": {},
   "source": [
    "# 計算字串間隔距離\n",
    "\n",
    "### Description  \n",
    "給定一個由大小寫英文字母所組成的字串以及一個英文字母，請輸出字母在字串中出現的間隔距離。\n",
    "\n",
    "### Input  \n",
    "每份測試資料的輸入只有兩行，  \n",
    "第一行為一個由大小寫字母所組成的長字串，字串長度為n(2≤n≤100)。  \n",
    "第二行為一個英文字母，代表要計算間隔距離的字母(不分大小寫)，且該字母在長字串中至少出現兩次(含)以上。\n",
    "\n",
    "### Output  \n",
    "輸出只有一行，不分大小寫，列出該字母在此長字串中出現的間隔距離（距離間以一個空白字元分開）\n",
    "\n",
    "***\n",
    "### Sample Input 1\n",
    "<div class=\"alert alert-info\">\n",
    "ABCDAAEFeDaBDCBCBcBCbCBBd<br>\n",
    "A<br>\n",
    "</div>\n",
    "\n",
    "### Sample Output 1\n",
    "<div class=\"alert alert-info\">\n",
    "4 1 5<br>\n",
    "</div>\n",
    "\n",
    "***\n",
    "### Sample Input 2\n",
    "<div class=\"alert alert-info\">\n",
    "ABCDAAEFeDaBDCBCBcBCbCBBdad<br>\n",
    "d<br>\n",
    "</div>\n",
    "\n",
    "### Sample Output 2\n",
    "<div class=\"alert alert-info\">\n",
    "6 3 12 2<br>\n",
    "</div>"
   ]
  },
  {
   "cell_type": "code",
   "execution_count": 1,
   "metadata": {},
   "outputs": [
    {
     "name": "stdout",
     "output_type": "stream",
     "text": [
      "ABCDAAEFeDaBDCBCBcBCbCBBdad\n",
      "d\n",
      "6 3 12 2\n"
     ]
    }
   ],
   "source": [
    "# 作業hw202 計算字串間隔距離\n",
    "string1=input()\n",
    "string2=input()\n",
    "\n",
    "charPosistion=[]\n",
    "i=0\n",
    "for char in string1:\n",
    "    if char.upper()==string2.upper():\n",
    "        charPosistion.append(i)\n",
    "    i=i+1\n",
    "        \n",
    "charInterval=[]\n",
    "for j in range(len(charPosistion)):\n",
    "    if j<(len(charPosistion)-1):\n",
    "        charInterval.append(str(charPosistion[j+1]-charPosistion[j]))\n",
    "\n",
    "print(\" \".join(charInterval))\n"
   ]
  },
  {
   "cell_type": "code",
   "execution_count": null,
   "metadata": {},
   "outputs": [],
   "source": []
  }
 ],
 "metadata": {
  "kernelspec": {
   "display_name": "Python 3",
   "language": "python",
   "name": "python3"
  },
  "language_info": {
   "codemirror_mode": {
    "name": "ipython",
    "version": 3
   },
   "file_extension": ".py",
   "mimetype": "text/x-python",
   "name": "python",
   "nbconvert_exporter": "python",
   "pygments_lexer": "ipython3",
   "version": "3.6.5"
  }
 },
 "nbformat": 4,
 "nbformat_minor": 2
}
