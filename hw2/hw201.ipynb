{
 "cells": [
  {
   "cell_type": "markdown",
   "metadata": {},
   "source": [
    "# 機器人國語言翻譯機\n",
    "\n",
    "### Description  \n",
    "某機器人國度使用的語言是將英文句子倒過來讀，為了方便與這些機器人溝通，我們需要一個翻譯機程式，它能將機器人語言轉換為英文句子。\n",
    "\n",
    "### Input  \n",
    "第一行是句子數量n，為一正整數，之後每一行都是測試句子，為一字串\n",
    "\n",
    "### Output  \n",
    "按每一句子，反轉字元順序後分別輸出為一行\n",
    "\n",
    "***\n",
    "### Sample Input 1\n",
    "<div class=\"alert alert-info\">\n",
    "2<br>\n",
    "elehciM si eman yM<br>\n",
    "sgnirts htiw od nac uoy sgniht gnitseretni fo tol a sah nohtyP<br>\n",
    "\n",
    "</div>\n",
    "\n",
    "### Sample Output 1\n",
    "<div class=\"alert alert-info\">\n",
    "My name is Michele <br>\n",
    "Python has a lot of interesting things you can do with strings<br>\n",
    "</div>"
   ]
  },
  {
   "cell_type": "code",
   "execution_count": 1,
   "metadata": {},
   "outputs": [
    {
     "name": "stdout",
     "output_type": "stream",
     "text": [
      "2\n",
      "elehciM si eman yM\n",
      "sgnirts htiw od nac uoy sgniht gnitseretni fo tol a sah nohtyP\n",
      "My name is Michele\n",
      "Python has a lot of interesting things you can do with strings\n"
     ]
    }
   ],
   "source": [
    "num=int(input())\n",
    "inputString=[]\n",
    "for i in range(num):\n",
    "    inputString_rev=input()\n",
    "    inputString.append(inputString_rev[::-1])\n",
    "\n",
    "for i in range(num):\n",
    "    print(inputString[i])"
   ]
  },
  {
   "cell_type": "code",
   "execution_count": null,
   "metadata": {},
   "outputs": [],
   "source": []
  }
 ],
 "metadata": {
  "kernelspec": {
   "display_name": "Python 3",
   "language": "python",
   "name": "python3"
  },
  "language_info": {
   "codemirror_mode": {
    "name": "ipython",
    "version": 3
   },
   "file_extension": ".py",
   "mimetype": "text/x-python",
   "name": "python",
   "nbconvert_exporter": "python",
   "pygments_lexer": "ipython3",
   "version": "3.6.5"
  }
 },
 "nbformat": 4,
 "nbformat_minor": 2
}
