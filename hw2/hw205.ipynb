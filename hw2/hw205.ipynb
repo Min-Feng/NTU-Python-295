{
 "cells": [
  {
   "cell_type": "markdown",
   "metadata": {},
   "source": [
    "# 括號配對機器人\n",
    "\n",
    "### Description  \n",
    "我們需要一隻這樣的閉合檢查機器人：輸入一段字串，裡面只包含下列括號字符： (、)、[、]、{、}括號必須按照順序閉合，比如 ()、[]、{}、{()}都是符合要求的，而[)、{{)就是不符合要求的。\n",
    "\n",
    "### Input  \n",
    "第一行是測試數據的組數n(n <= 10000)，之後每一行都是測試數據，每組數據長度<=100。\n",
    "\n",
    "### Output  \n",
    "如果括號是配對的，就輸出 True，否則輸出 False\n",
    "\n",
    "***\n",
    "### Sample Input 1\n",
    "<div class=\"alert alert-info\">\n",
    "4<br>\n",
    "()[]<br>\n",
    "[[]]<br>\n",
    "()[]{}<br>\n",
    "{{)]<br>\n",
    "</div>\n",
    "\n",
    "### Sample Output 1\n",
    "<div class=\"alert alert-info\">\n",
    "True<br>\n",
    "True<br>\n",
    "True<br>\n",
    "False<br>\n",
    "</div>"
   ]
  },
  {
   "cell_type": "code",
   "execution_count": 1,
   "metadata": {},
   "outputs": [
    {
     "name": "stdout",
     "output_type": "stream",
     "text": [
      "4\n",
      "()[]\n",
      "[[]]\n",
      "()[]{}\n",
      "{{)]\n",
      "True\n",
      "True\n",
      "True\n",
      "False\n"
     ]
    }
   ],
   "source": [
    "# Check函數    \n",
    "def CheckPair(inStr):   \n",
    "    Stack=[]\n",
    "    for i in inStr:\n",
    "#       左括號 push Stack\n",
    "        if i == '(':\n",
    "            Stack.append(')')\n",
    "        elif i == '[':\n",
    "            Stack.append(']')\n",
    "        elif i == '{':\n",
    "            Stack.append('}')    \n",
    "#       右括號\n",
    "        if len(Stack)<=0 :\n",
    "            return 0\n",
    "        elif i == ')' or i == ']' or i == '}' :\n",
    "            if i != Stack.pop():\n",
    "                return 0\n",
    "#   判斷括號是否成對\n",
    "    if len(Stack)!=0:\n",
    "        return 0\n",
    "    else:\n",
    "        return 1\n",
    "\n",
    "num=int(input())\n",
    "result=[]\n",
    "\n",
    "for i in range(num):\n",
    "    inStr=input()\n",
    "    result.append(CheckPair(inStr))\n",
    "            \n",
    "for j in range(num):\n",
    "    print(bool(result[j]))"
   ]
  },
  {
   "cell_type": "code",
   "execution_count": null,
   "metadata": {},
   "outputs": [],
   "source": []
  },
  {
   "cell_type": "code",
   "execution_count": null,
   "metadata": {},
   "outputs": [],
   "source": []
  }
 ],
 "metadata": {
  "kernelspec": {
   "display_name": "Python 3",
   "language": "python",
   "name": "python3"
  },
  "language_info": {
   "codemirror_mode": {
    "name": "ipython",
    "version": 3
   },
   "file_extension": ".py",
   "mimetype": "text/x-python",
   "name": "python",
   "nbconvert_exporter": "python",
   "pygments_lexer": "ipython3",
   "version": "3.6.5"
  }
 },
 "nbformat": 4,
 "nbformat_minor": 2
}
