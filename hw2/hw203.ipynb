{
 "cells": [
  {
   "cell_type": "markdown",
   "metadata": {},
   "source": [
    "# 迴文\n",
    "\n",
    "### Description  \n",
    "如果一個字串，從前面唸過去，跟從後面唸回來是一樣的，例如阿巴合唱團 ABBA 就符合這個條件，這樣的文字我們稱它為「迴文」。現在給你一個字串，請你判斷它是不是一個迴文。\n",
    "\n",
    "### Input  \n",
    "輸入有多行，每一行為一個字串，以判斷它是不是一個迴文。最終以-----符號結束，此行不需判斷是否迴文。\n",
    "\n",
    "### Output  \n",
    "輸出行數同輸入行數。如果輸入的文字是迴文，請輸出 YES，否則輸出 NO。(判斷時大小寫視為不同文字)\n",
    "\n",
    "***\n",
    "### Sample Input 1\n",
    "<div class=\"alert alert-info\">\n",
    "ABBA<br>\n",
    "ABCD<br>\n",
    "ABCBA<br>\n",
    "5432345<br>\n",
    "-----<br>\n",
    "</div>\n",
    "\n",
    "### Sample Output 1\n",
    "<div class=\"alert alert-info\">\n",
    "YES<br>\n",
    "NO<br>\n",
    "YES<br>\n",
    "YES<br>\n",
    "</div>"
   ]
  },
  {
   "cell_type": "code",
   "execution_count": 1,
   "metadata": {},
   "outputs": [
    {
     "name": "stdout",
     "output_type": "stream",
     "text": [
      "ABBA\n",
      "ABCD\n",
      "ABCBA\n",
      "5432345\n",
      "-----\n",
      "YES\n",
      "NO\n",
      "YES\n",
      "YES\n"
     ]
    }
   ],
   "source": [
    "\n",
    "rowStr=input()\n",
    "isPalindrome=[]\n",
    "\n",
    "while(rowStr != \"-----\"):\n",
    "    if rowStr[::-1]==rowStr:\n",
    "        isPalindrome.append(\"YES\")\n",
    "    else:\n",
    "        isPalindrome.append(\"NO\")\n",
    "    rowStr=input()\n",
    "\n",
    "for i in isPalindrome:\n",
    "    print(i)"
   ]
  },
  {
   "cell_type": "code",
   "execution_count": null,
   "metadata": {},
   "outputs": [],
   "source": []
  }
 ],
 "metadata": {
  "kernelspec": {
   "display_name": "Python 3",
   "language": "python",
   "name": "python3"
  },
  "language_info": {
   "codemirror_mode": {
    "name": "ipython",
    "version": 3
   },
   "file_extension": ".py",
   "mimetype": "text/x-python",
   "name": "python",
   "nbconvert_exporter": "python",
   "pygments_lexer": "ipython3",
   "version": "3.6.5"
  }
 },
 "nbformat": 4,
 "nbformat_minor": 2
}
