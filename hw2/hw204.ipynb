{
 "cells": [
  {
   "cell_type": "markdown",
   "metadata": {},
   "source": [
    "# 太鼓達人\n",
    "\n",
    "### Description  \n",
    "「太鼓達人」是一款音樂型遊戲，玩者需要配合畫面上出現不同種類的音符，以正確的節拍敲打太鼓來獲取分數。現在我們將這個遊戲簡化，請你來完成它的功能。音符只有兩種：\n",
    ">1. 紅色音符(咚)：代表要敲打鼓面\n",
    ">2. 藍色音符(喀)：代表要敲打鼓邊\n",
    "\n",
    "遊戲中有2個數值：\n",
    ">1. 得分：遊戲一開始這個數值是 0，只要在音符出現時敲打太鼓上正確的部位(鼓面或鼓邊)，即可獲得分數，增加的分數為 COMBO 數×100。\n",
    ">2. COMBO 數：代表連續正確命中音符的數量，遊戲一開始這個數值是 0，只要每次命中一個音符則 COMBO 數就會+1，但只要有一個失誤(打錯部位或沒打)，則 COMBO 數就會歸零。另外，請你記錄玩家出現過最高的 COMBO 數是多少。\n",
    "\n",
    "另外請注意，如果畫面上沒有音符時，敲打太鼓的任何一個部位並不會影響任何數值，也就是沒有音符的時候做什麼都可以。\n",
    "### Input  \n",
    "輸入資料有兩行長度一樣的字串(最大長度100字元)。\n",
    "第一行代表遊戲出現的音符順序，第二行代表玩家敲打太鼓的順序。\n",
    "每一行字串都是有三種字元組成：\n",
    "\n",
    "- R代表紅色音符，也就是敲打鼓面\n",
    "- B代表藍色音符，也就是敲打鼓邊\n",
    "- 最後-代表沒有音符，也就是沒有打太鼓的任何一個部位。\n",
    "\n",
    "### Output  \n",
    "輸出只有一行，請輸出兩個數字，分別是得分、最高 COMBO 數，兩個數字中間請空一格\n",
    "\n",
    "***\n",
    "### Sample Input 1\n",
    "<div class=\"alert alert-info\">\n",
    "R-R-R-<br>\n",
    "R-R-B-<br>\n",
    "</div>\n",
    "\n",
    "### Sample Output 1\n",
    "<div class=\"alert alert-info\">\n",
    "300 2\n",
    "</div>\n",
    "\n",
    "***\n",
    "### Sample Input 2\n",
    "<div class=\"alert alert-info\">\n",
    "RRRRBRRRRB<br>\n",
    "RRRRRRRRRR<br>\n",
    "</div>\n",
    "\n",
    "### Sample Output 2\n",
    "<div class=\"alert alert-info\">\n",
    "2000 4\n",
    "\n",
    "</div>"
   ]
  },
  {
   "cell_type": "code",
   "execution_count": 2,
   "metadata": {},
   "outputs": [
    {
     "name": "stdout",
     "output_type": "stream",
     "text": [
      "RRRRBRRRRB\n",
      "RRRRRRRRRR\n",
      "2000 4\n"
     ]
    }
   ],
   "source": [
    "\n",
    "score=0\n",
    "combo=0\n",
    "comboMax=0\n",
    "\n",
    "pcStr=input()\n",
    "playerStr=input()\n",
    "\n",
    "for i in range(len(pcStr)):\n",
    "    if pcStr[i]==\"-\":\n",
    "        continue\n",
    "    elif pcStr[i]==playerStr[i]:\n",
    "        combo+=1\n",
    "        score+=combo*100\n",
    "        if combo>comboMax:\n",
    "            comboMax=combo\n",
    "    else:\n",
    "        combo=0\n",
    "        \n",
    "print(score,comboMax)\n"
   ]
  },
  {
   "cell_type": "code",
   "execution_count": null,
   "metadata": {},
   "outputs": [],
   "source": []
  },
  {
   "cell_type": "code",
   "execution_count": null,
   "metadata": {},
   "outputs": [],
   "source": []
  }
 ],
 "metadata": {
  "kernelspec": {
   "display_name": "Python 3",
   "language": "python",
   "name": "python3"
  },
  "language_info": {
   "codemirror_mode": {
    "name": "ipython",
    "version": 3
   },
   "file_extension": ".py",
   "mimetype": "text/x-python",
   "name": "python",
   "nbconvert_exporter": "python",
   "pygments_lexer": "ipython3",
   "version": "3.6.5"
  }
 },
 "nbformat": 4,
 "nbformat_minor": 2
}
