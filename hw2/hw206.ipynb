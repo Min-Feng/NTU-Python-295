{
 "cells": [
  {
   "cell_type": "markdown",
   "metadata": {},
   "source": [
    "# 字串中學堂\n",
    "\n",
    "### Description  \n",
    "小明的哥哥叫大明，大明很喜歡跟別人說話，而且比弟弟愛說更多的話。兩兄弟一個樣，每次說出來的語句的順序都很奇怪，希望能透過你來說出他想要表達的句子。\n",
    "\n",
    "### Input  \n",
    "多行字串，每一行字串由一個英文單字以及一個數字組成，數字為原語句該有的順序。最終將以0表示句子結束。\n",
    "\n",
    "### Output  \n",
    "依據順序輸出，正常語意的語句並加上句點\n",
    "***\n",
    "### Sample Input 1\n",
    "<div class=\"alert alert-info\">\n",
    "good 3<br>\n",
    "Have 1<br>\n",
    "day 4<br>\n",
    "a 2<br>\n",
    "0<br>\n",
    "</div>\n",
    "\n",
    "### Sample Output 1\n",
    "<div class=\"alert alert-info\">\n",
    "Have a good day.\n",
    "</div>"
   ]
  },
  {
   "cell_type": "code",
   "execution_count": 1,
   "metadata": {},
   "outputs": [
    {
     "name": "stdout",
     "output_type": "stream",
     "text": [
      "good 3\n",
      "Have 1\n",
      "day 4\n",
      "a 2\n",
      "0\n",
      "Have a good day."
     ]
    }
   ],
   "source": [
    "# 作業hw206 字串中學堂\n",
    "\n",
    "inputList=input().split(\" \")\n",
    "outputList=[]\n",
    "\n",
    "while inputList!=['0']:\n",
    "    outputList.append(inputList)\n",
    "    inputList=input().split(\" \")\n",
    "\n",
    "for i in range(len(outputList)):\n",
    "    temp=outputList[i][1]\n",
    "    outputList[i][1]=outputList[i][0]\n",
    "    outputList[i][0]=temp\n",
    "\n",
    "outputList.sort()\n",
    "\n",
    "for i in range(len(outputList)):\n",
    "    if i < len(outputList)-1:\n",
    "        print(outputList[i][1],end=\" \")\n",
    "    else:\n",
    "        print(outputList[i][1],end=\".\")"
   ]
  },
  {
   "cell_type": "code",
   "execution_count": null,
   "metadata": {},
   "outputs": [],
   "source": []
  },
  {
   "cell_type": "code",
   "execution_count": null,
   "metadata": {},
   "outputs": [],
   "source": []
  }
 ],
 "metadata": {
  "kernelspec": {
   "display_name": "Python 3",
   "language": "python",
   "name": "python3"
  },
  "language_info": {
   "codemirror_mode": {
    "name": "ipython",
    "version": 3
   },
   "file_extension": ".py",
   "mimetype": "text/x-python",
   "name": "python",
   "nbconvert_exporter": "python",
   "pygments_lexer": "ipython3",
   "version": "3.6.5"
  }
 },
 "nbformat": 4,
 "nbformat_minor": 2
}
