{
 "cells": [
  {
   "cell_type": "markdown",
   "metadata": {},
   "source": [
    "# 動物星球\n",
    "\n",
    "### Description  \n",
    "在某動物頻道裡你會陸續看到一些動物在某地方出現，請你統計某地方有幾隻某動物出現。\n",
    "\n",
    "### Input  \n",
    "輸入有多行，每一行內部資料格式為:動物名稱 數量 地點，其中動物名稱與地點為中文字串(除了測試檔案內的名稱外，可能會有其他不同的名稱)，數量為一整數(0<=N<=100)。\n",
    "\n",
    "### Output  \n",
    "請輸出統計資料格式如下:  \n",
    "地點:動物名稱 數量, 動物名稱 數量, …  \n",
    "請按照地點名稱出現順序輸出，一個地點一行，若同一地點有多種動物出現，  \n",
    "則按照動物出現數量由大而小順序輸出(測資保證最終數量皆相異，毋須擔心數量相同情況)\n",
    "\n",
    "***\n",
    "### Sample Input 1\n",
    "<div class=\"alert alert-info\">\n",
    "猴子 2 樹上<br>\n",
    "蛇 2 地上<br>\n",
    "烏龜 4 水裡<br>\n",
    "熊 1 樹上<br>\n",
    "猴子 1 地上<br>\n",
    "蛇 3 樹上<br>\n",
    "猴子 3 樹上<br>\n",
    "</div>\n",
    "\n",
    "### Sample Output 1\n",
    "<div class=\"alert alert-info\">\n",
    "樹上:猴子 5,蛇 3,熊 1<br>\n",
    "地上:蛇 2,猴子 1<br>\n",
    "水裡:烏龜 4<br>\n",
    "</div>"
   ]
  },
  {
   "cell_type": "code",
   "execution_count": 1,
   "metadata": {},
   "outputs": [
    {
     "name": "stdout",
     "output_type": "stream",
     "text": [
      "猴子 2 樹上\n",
      "蛇 2 地上\n",
      "烏龜 4 水裡\n",
      "熊 1 樹上\n",
      "猴子 1 地上\n",
      "蛇 3 樹上\n",
      "猴子 3 樹上\n",
      "\n",
      "樹上:猴子 5,蛇 3,熊 1\n",
      "地上:蛇 2,猴子 1\n",
      "水裡:烏龜 4\n"
     ]
    }
   ],
   "source": [
    "# 動物星球\n",
    "\n",
    "def addData(habitat,num,animal):\n",
    "    num=int(num)\n",
    "    if habitat not in Dict.keys():\n",
    "        Dict[habitat]={}\n",
    "        habitatList.append(habitat)\n",
    "    if animal not in Dict[habitat].keys():\n",
    "        Dict[habitat][animal]=0\n",
    "    Dict[habitat][animal]+=num\n",
    "\n",
    "Dict={}\n",
    "habitatList=[] #依照順序儲存 所出現的棲息地\n",
    "while 1:\n",
    "    try:\n",
    "        animal,num,habitat=input().split(\" \")\n",
    "        addData(habitat,num,animal)\n",
    "    except:\n",
    "        break\n",
    "\n",
    "for i in habitatList:  \n",
    "    animalOrder=[]\n",
    "    \n",
    "    for j,k in sorted(Dict[i].items(),key=lambda item:item[1],reverse=True):\n",
    "        if k == 0:\n",
    "            continue\n",
    "        else:\n",
    "            animalOrder.append(j+' '+str(k))\n",
    "    \n",
    "    animalOrder=\",\".join(animalOrder)\n",
    "    if len(animalOrder) == 0:\n",
    "        continue\n",
    "    else:\n",
    "        print(\"{}:{}\".format(i,animalOrder))"
   ]
  },
  {
   "cell_type": "code",
   "execution_count": null,
   "metadata": {},
   "outputs": [],
   "source": []
  },
  {
   "cell_type": "code",
   "execution_count": null,
   "metadata": {},
   "outputs": [],
   "source": []
  },
  {
   "cell_type": "code",
   "execution_count": null,
   "metadata": {},
   "outputs": [],
   "source": []
  }
 ],
 "metadata": {
  "kernelspec": {
   "display_name": "Python 3",
   "language": "python",
   "name": "python3"
  },
  "language_info": {
   "codemirror_mode": {
    "name": "ipython",
    "version": 3
   },
   "file_extension": ".py",
   "mimetype": "text/x-python",
   "name": "python",
   "nbconvert_exporter": "python",
   "pygments_lexer": "ipython3",
   "version": "3.6.5"
  }
 },
 "nbformat": 4,
 "nbformat_minor": 2
}
