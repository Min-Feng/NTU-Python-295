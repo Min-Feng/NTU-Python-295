{
 "cells": [
  {
   "cell_type": "markdown",
   "metadata": {},
   "source": [
    "# 碼大師的風鈴\n",
    "\n",
    "### Description  \n",
    "風鈴，是一種用金屬、玻璃或竹木等材料所製成，可在風的吹動下，通過各種鈴鐺或其它物體的碰撞來發出聲音。\n",
    "\n",
    "碼大師製造的風鈴是由線、木棒、銅管構成。一個表示為((A,B),((C,D),E))的風鈴\n",
    "\n",
    "一個好的風鈴，在每一個懸吊點都要保證是平衡的，也就是不能有左邊比較重或是右邊比較重的情況，只要有一個懸掛點左右兩邊重量不均衡，這個風鈴就是壞掉的。\n",
    "\n",
    "為了精確校正風鈴的音色，碼大師使用了沒有重量的木棒和線，所以可以只考慮銅管的重量。現在你得到了好幾個風鈴，請你驗證它們到底是好的還是壞的。\n",
    "\n",
    "### Input  \n",
    "輸入有多行，每一行有一個字串描述風鈴的形狀(長度不超過100)。描述方式如下：\n",
    "\n",
    "每對括號都代表一根木棒，左右兩邊各懸吊一根木棒或是一根銅管。\n",
    "\n",
    "每個數字都代表一根銅管，數字代表這個銅管的重量，數字的範圍在0到100 之間 (包含0 及100)。\n",
    "\n",
    "舉例來說，(10,20) 意思是這跟木棒左邊懸吊了重量為10 的銅管，右邊懸吊了重量為 20 的銅管，而整個木棒+銅管的重量為 30。\n",
    "\n",
    "### Output  \n",
    "對每組測試資料輸出一行，若風鈴是好的則輸出Yes，否則輸出No。\n",
    "\n",
    "***\n",
    "### Sample Input 1\n",
    "<div class=\"alert alert-info\">\n",
    "((1,1),(1,1))<br>\n",
    "(3,2)<br>\n",
    "((((1,1),2),4),8)<br>\n",
    "</div>\n",
    "\n",
    "### Sample Output 1\n",
    "<div class=\"alert alert-info\">\n",
    "Yes<br>\n",
    "No<br>\n",
    "Yes<br>\n",
    "</div>"
   ]
  },
  {
   "cell_type": "code",
   "execution_count": 1,
   "metadata": {},
   "outputs": [
    {
     "name": "stdout",
     "output_type": "stream",
     "text": [
      "((1,1),(1,1))\n",
      "(3,2)\n",
      "((((1,1),2),4),8)\n",
      "(0,0)\n",
      "\n",
      "Yes\n",
      "No\n",
      "Yes\n",
      "Yes\n"
     ]
    }
   ],
   "source": [
    "# 碼大師的風鈴\n",
    "\n",
    "def postOrder(tree):\n",
    "    nodeDict={'L':(),'R':(),'data':()}\n",
    "\n",
    "    if type(tree[0]) == int or type(tree[0]) == str:\n",
    "        nodeDict['L']=tree[0]\n",
    "    else:\n",
    "        nodeDict['L']=postOrder(tree[0])\n",
    "\n",
    "    if type(tree[1]) == int or  type(tree[1]) == str:\n",
    "        nodeDict['R']=tree[1]\n",
    "    else:\n",
    "        nodeDict['R']=postOrder(tree[1])\n",
    "\n",
    "    if nodeDict['L']=='False' or nodeDict['R']=='False':\n",
    "        return 'False'\n",
    "\n",
    "    if nodeDict['L']==nodeDict['R']:\n",
    "        nodeDict['data']=nodeDict['L']+nodeDict['R']\n",
    "        return nodeDict['data']\n",
    "    else:\n",
    "        return 'False'\n",
    "\n",
    "#開始\n",
    "result=[]\n",
    "while True:\n",
    "    try:\n",
    "        tree=eval(input())\n",
    "        if postOrder(tree)=='False':\n",
    "            result.append('No')\n",
    "        else:\n",
    "            result.append('Yes')\n",
    "    except:\n",
    "        break\n",
    "        \n",
    "for i in result:\n",
    "    print(i)\n",
    "    "
   ]
  },
  {
   "cell_type": "code",
   "execution_count": null,
   "metadata": {},
   "outputs": [],
   "source": []
  },
  {
   "cell_type": "code",
   "execution_count": null,
   "metadata": {},
   "outputs": [],
   "source": []
  }
 ],
 "metadata": {
  "kernelspec": {
   "display_name": "Python 3",
   "language": "python",
   "name": "python3"
  },
  "language_info": {
   "codemirror_mode": {
    "name": "ipython",
    "version": 3
   },
   "file_extension": ".py",
   "mimetype": "text/x-python",
   "name": "python",
   "nbconvert_exporter": "python",
   "pygments_lexer": "ipython3",
   "version": "3.6.5"
  }
 },
 "nbformat": 4,
 "nbformat_minor": 2
}
