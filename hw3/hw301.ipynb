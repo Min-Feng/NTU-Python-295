{
 "cells": [
  {
   "cell_type": "markdown",
   "metadata": {},
   "source": [
    "# 電子郵件驗證\n",
    "\n",
    "### Description  \n",
    "在下班前一刻，狠心的主管遞給你一份公司員工自行填寫的Email信箱名單，這份名單可能包含人為填寫時的各種錯誤，並限定你明天下班前要回報。為了能夠確保明日準時下班，只有自己寫一個快速驗證程式一途。請定義一函式：email_checker()用來判斷名單中的Email地址是否錯誤。\n",
    "\n",
    "能通過驗證的電子郵件地址必須符合以下規則：\n",
    "- 必須要是 username@websitename.extension 格式(請注意@符號與位置)\n",
    "- username的字元只能包含：小寫字母(a~z，不可為大寫)、數字(0~9)、底線(_)、橫線(-)\n",
    "- websitename只能是小寫字母(a~z，不可為大寫)、數字(0~9)\n",
    "- extension長度最長為3\n",
    "\n",
    "### Input  \n",
    "輸入第一行為一正整數n，表示Email地址數量。  \n",
    "接著為n行電子郵件地址，請依序判斷電子郵件正確性。\n",
    "\n",
    "### Output  \n",
    "請依據輸入電子郵件判斷是否為合乎規則，符合規則者輸出一行Valid，否則為Invalid。輸出行數應為輸入第一行n之數量\n",
    "\n",
    "***\n",
    "### Sample Input 1\n",
    "<div class=\"alert alert-info\">\n",
    "3<br>\n",
    "lara-98@codeta.com<br>\n",
    "Shasta543@gmail.com<br>\n",
    "britts_54@codeta.ml<br>\n",
    "</div>\n",
    "\n",
    "### Sample Output 1\n",
    "<div class=\"alert alert-info\">\n",
    "Valid<br>\n",
    "Invalid<br>\n",
    "Valid<br>\n",
    "</div>"
   ]
  },
  {
   "cell_type": "code",
   "execution_count": 1,
   "metadata": {},
   "outputs": [
    {
     "name": "stdout",
     "output_type": "stream",
     "text": [
      "3\n",
      "lara-98@codeta.com\n",
      "Shasta543@gmail.com\n",
      "britts_54@codeta.ml\n",
      "Valid\n",
      "Invalid\n",
      "Valid\n"
     ]
    }
   ],
   "source": [
    "# 電子郵件驗證\n",
    "import re\n",
    "\n",
    "def email_checker(Mailaddress):\n",
    "\n",
    "    #判斷 符合 格式(注意@符號與位置)\n",
    "    if len(Mailaddress.split('@')) !=2:\n",
    "        return 'Invalid'\n",
    "    else:\n",
    "        username=Mailaddress.split('@')[0]\n",
    "        if len(Mailaddress.split('@')[1].split(\".\")) !=2:\n",
    "            return 'Invalid'\n",
    "        else:\n",
    "            websitename,extension=Mailaddress.split('@')[1].split(\".\")\n",
    "#     print(username,websitename,extension)   \n",
    "\n",
    "    #判斷 username\n",
    "    #注意 純數字的話 .islower() 可能誤判\n",
    "    username=re.split('_|-',username)\n",
    "    username=\"\".join(username)\n",
    "    if (username.isalnum()):\n",
    "        if not (username.islower() or username.isdigit()) :\n",
    "            return 'Invalid'\n",
    "    else:\n",
    "        if len(username) != 0:\n",
    "            return 'Invalid'           \n",
    "        \n",
    "    #判斷 websitename        \n",
    "    if (websitename.isalnum()):\n",
    "        if not (websitename.islower()  or websitename.isdigit() ):\n",
    "            return 'Invalid'\n",
    "    else:\n",
    "        return 'Invalid'\n",
    "    \n",
    "    #判斷 extension\n",
    "    if len(extension)<=3:\n",
    "        return 'Valid'\n",
    "    else:\n",
    "        return 'Invalid'\n",
    "\n",
    "# 開始\n",
    "num=int(input())\n",
    "result=[]\n",
    "for i in range(num):\n",
    "    Mailaddress=input()\n",
    "    result.append(email_checker(Mailaddress))\n",
    "\n",
    "for i in range(num):\n",
    "    print(result[i])"
   ]
  },
  {
   "cell_type": "code",
   "execution_count": null,
   "metadata": {},
   "outputs": [],
   "source": []
  },
  {
   "cell_type": "code",
   "execution_count": null,
   "metadata": {},
   "outputs": [],
   "source": []
  },
  {
   "cell_type": "code",
   "execution_count": null,
   "metadata": {},
   "outputs": [],
   "source": []
  }
 ],
 "metadata": {
  "kernelspec": {
   "display_name": "Python 3",
   "language": "python",
   "name": "python3"
  },
  "language_info": {
   "codemirror_mode": {
    "name": "ipython",
    "version": 3
   },
   "file_extension": ".py",
   "mimetype": "text/x-python",
   "name": "python",
   "nbconvert_exporter": "python",
   "pygments_lexer": "ipython3",
   "version": "3.6.5"
  }
 },
 "nbformat": 4,
 "nbformat_minor": 2
}
