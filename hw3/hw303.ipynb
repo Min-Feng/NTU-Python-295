{
 "cells": [
  {
   "cell_type": "markdown",
   "metadata": {},
   "source": [
    "# 太空機器人的位置\n",
    "\n",
    "### Description  \n",
    "研究人員開發了一套遙控系統，用它來控制一個在遙遠星球表面上的機器人移動。 這套遙控系統的操作很簡單，它會傳送一連串的指令給機器人，機器人接收指令後，會按照指令進行移動。你的工作是開發一個程式幫助研究人員，用其計算機器人移動後， 最終的二維位置座標與出發點相隔距離。\n",
    "\n",
    "### Input  \n",
    "測試資料每一行都會有一個指令。第一個是開始指令 B，之後兩個是 x 座標和 y 座標的設定，接下來是移動指令組，最後是結束指令 E。詳細的指令格式如下：\n",
    "\n",
    "開始指令：B設定座標指令：X <非負整數> 或 Y <非負整數>移動指令(至少一組。最多 100 組)：  \n",
    "U <非負整數> 或 D <非負整數> 或 L <非負整數> 或 R <非負整數>結束指令：E\n",
    "\n",
    "指令字元與<非負整數>之間有一個或多個空白字元。<非負整數>之數值不超過 65,836。\n",
    "\n",
    "指令字元的意義如下列表：\n",
    "\n",
    ">B : 開始移動指令X : 設定機器人的 x 座標為<非負整數>Y : 設定機器人的 y 座標為<非負整數>U : 往正 y 軸方向移動<非負整數>格D : 往負 y 軸方向移動<非負整數>格R : 往正 x 軸方向移動<非負整數>格L : 往負 x 軸方向移動<非負整數>格E : 結束移動指令\n",
    "\n",
    "請試著自定義函式: next_step() 傳入兩引數：當前座標與每一行輸入指令，並且回傳移動後座標\n",
    "\n",
    "### Output  \n",
    "針對每個測試資料，第一行是 x 座標，第二行是 y 座標，第三行是與出發點相隔距離以一浮點數表示並保留小數點後3位。\n",
    "\n",
    "***\n",
    "### Sample Input 1\n",
    "<div class=\"alert alert-info\">\n",
    "B<br>\n",
    "X 100<br>\n",
    "Y 200<br>\n",
    "U 100<br>\n",
    "D 30<br>\n",
    "R 5<br>\n",
    "L 110<br>\n",
    "E<br>\n",
    "</div>\n",
    "\n",
    "### Sample Output 1\n",
    "<div class=\"alert alert-info\">\n",
    "-5<br>\n",
    "270<br>\n",
    "126.194<br>\n",
    "</div>"
   ]
  },
  {
   "cell_type": "code",
   "execution_count": 1,
   "metadata": {},
   "outputs": [
    {
     "name": "stdout",
     "output_type": "stream",
     "text": [
      "B\n",
      "X 100\n",
      "Y 200\n",
      "U 100\n",
      "D 30\n",
      "R 5\n",
      "L 110\n",
      "E\n",
      "-5\n",
      "270\n",
      "126.194\n"
     ]
    }
   ],
   "source": [
    "# 太空機器人的位置\n",
    "\n",
    "def next(command):\n",
    "    command=command.split(' ')    \n",
    "    if command[0]=='U':\n",
    "        positionDict[\"Y\"]+=int(command[1])\n",
    "    if command[0]=='D':\n",
    "        positionDict[\"Y\"]-=int(command[1])\n",
    "    if command[0]=='R':\n",
    "        positionDict[\"X\"]+=int(command[1])\n",
    "    if command[0]=='L':\n",
    "        positionDict[\"X\"]-=int(command[1])\n",
    "\n",
    "positionDict={}\n",
    "command=input()\n",
    "if command == 'B':\n",
    "    position1=input().split(' ')\n",
    "    positionDict[position1[0]]=int(position1[1])\n",
    "        \n",
    "    position2=input().split(' ')\n",
    "    positionDict[position2[0]]=int(position2[1])\n",
    "    \n",
    "    originalX=positionDict['X']\n",
    "    originalY=positionDict['Y']\n",
    "    \n",
    "while (True):\n",
    "    command = input()\n",
    "    if command == 'E':\n",
    "        break        \n",
    "    next(command)\n",
    "    \n",
    "distance=((positionDict[\"X\"]-originalX)**2+(positionDict[\"Y\"]-originalY)**2)**0.5\n",
    "print(positionDict['X'])\n",
    "print(positionDict['Y'])\n",
    "print(\"{:.3f}\".format(distance))"
   ]
  },
  {
   "cell_type": "code",
   "execution_count": null,
   "metadata": {},
   "outputs": [],
   "source": []
  },
  {
   "cell_type": "code",
   "execution_count": null,
   "metadata": {},
   "outputs": [],
   "source": []
  }
 ],
 "metadata": {
  "kernelspec": {
   "display_name": "Python 3",
   "language": "python",
   "name": "python3"
  },
  "language_info": {
   "codemirror_mode": {
    "name": "ipython",
    "version": 3
   },
   "file_extension": ".py",
   "mimetype": "text/x-python",
   "name": "python",
   "nbconvert_exporter": "python",
   "pygments_lexer": "ipython3",
   "version": "3.6.5"
  }
 },
 "nbformat": 4,
 "nbformat_minor": 2
}
