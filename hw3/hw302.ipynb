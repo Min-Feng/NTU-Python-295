{
 "cells": [
  {
   "cell_type": "markdown",
   "metadata": {},
   "source": [
    "# 過了多久\n",
    "\n",
    "### Description  \n",
    "或許經常使用社群網站的你一定注意過如下資訊：在這些平台上發布更新時（如：貼文、照片、影片等 )，用戶可以查看這則訊息是「過了多久」，如：(某篇貼文)10秒鐘、10分鐘、3小時、5天、24週這樣的顯示方式。\n",
    "\n",
    "現在每一則貼文會提供你兩個時間點，第一個是貼文發布時間，第二個是正在瀏覽時間。\n",
    "時間格式如下：\n",
    "\n",
    ">Day dd Mon yyyy hh:mm:ss +xxxx  \n",
    ">( 這裡的+xxxx 代表時區，如：+0800 即代表台灣時區)\n",
    "\n",
    "這回你的任務便是將每一筆資料轉換為「過了多久」這樣的顯示方式。\n",
    "\n",
    "而「過了多久」顯示時間單位只有5種：「second(s)」、「minute(s)」、「hour(s)」、「day(s)」、「week(s)」，  \n",
    "請選擇一種最簡潔的單位顯示之(須注意單複數)。  \n",
    "例如：若兩個時間差為27000秒，經過分鐘與小時轉換，則最後將顯示為7小時 (無條件捨去小數位)。\n",
    "\n",
    "### Input  \n",
    "第一行為一正整數n，代表貼文數量每一則貼文包含兩行，第一行是貼文發布時間，第二行是正在瀏覽時間\n",
    "\n",
    "### Output  \n",
    "輸出行數為貼文數量，每一行為「過了多久」時間格式顯示\n",
    "\n",
    "***\n",
    "### Sample Input 1\n",
    "<div class=\"alert alert-info\">\n",
    "2<br>\n",
    "Sun 10 May 2015 13:54:36 -0000<br>\n",
    "Sun 10 May 2015 13:54:36 -0700<br>\n",
    "Fri 01 May 2015 13:54:36 -0000<br>\n",
    "Sat 02 May 2015 19:54:36 +0530<br>\n",
    "</div>\n",
    "\n",
    "### Sample Output 1\n",
    "<div class=\"alert alert-info\">\n",
    "7 hours ago<br>\n",
    "1 day ago<br>\n",
    "</div>"
   ]
  },
  {
   "cell_type": "code",
   "execution_count": 1,
   "metadata": {},
   "outputs": [
    {
     "name": "stdout",
     "output_type": "stream",
     "text": [
      "2\n",
      "Sun 10 May 2015 13:54:36 -0000\n",
      "Sun 10 May 2015 13:54:36 -0700\n",
      "7 hours ago\n",
      "Fri 01 May 2015 13:54:36 -0000\n",
      "Sat 02 May 2015 19:54:36 +0530\n",
      "1 day ago\n"
     ]
    }
   ],
   "source": [
    "import datetime\n",
    "\n",
    "def interval(post,now):\n",
    "    t0=datetime.datetime.strptime(post,'%a %d %b %Y %H:%M:%S %z')\n",
    "    t1=datetime.datetime.strptime(now,'%a %d %b %Y %H:%M:%S %z')\n",
    "    td=t1-t0\n",
    "    td_sec = td.seconds\n",
    "    td_min = td.seconds//60\n",
    "    td_hr = td.seconds//(60*60)\n",
    "    td_day = td.days\n",
    "    td_wk = td.days//7\n",
    "    \n",
    "    timedelta=[td_wk,td_day,td_hr,td_min, td_sec]\n",
    "    text_sg=['1 week ago','1 day ago','1 hour ago', '1 minute ago','1 second ago']\n",
    "    text_pl=['weeks ago','days ago','hours ago','minutes ago','seconds ago']\n",
    "    for n in range(len(timedelta)):\n",
    "        if timedelta[n] !=0:\n",
    "            if timedelta[n]==1:\n",
    "                print(text_sg[n])\n",
    "            else:\n",
    "                print(timedelta[n],text_pl[n])\n",
    "            break\n",
    "\n",
    "\n",
    "for i in range(int(input())):\n",
    "    interval(input(),input())"
   ]
  },
  {
   "cell_type": "code",
   "execution_count": null,
   "metadata": {},
   "outputs": [],
   "source": []
  },
  {
   "cell_type": "code",
   "execution_count": null,
   "metadata": {},
   "outputs": [],
   "source": []
  }
 ],
 "metadata": {
  "kernelspec": {
   "display_name": "Python 3",
   "language": "python",
   "name": "python3"
  },
  "language_info": {
   "codemirror_mode": {
    "name": "ipython",
    "version": 3
   },
   "file_extension": ".py",
   "mimetype": "text/x-python",
   "name": "python",
   "nbconvert_exporter": "python",
   "pygments_lexer": "ipython3",
   "version": "3.6.5"
  }
 },
 "nbformat": 4,
 "nbformat_minor": 2
}
